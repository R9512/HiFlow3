{
 "cells": [
  {
   "cell_type": "code",
   "execution_count": 12,
   "metadata": {},
   "outputs": [
    {
     "name": "stdout",
     "output_type": "stream",
     "text": [
      "Sairam\n"
     ]
    }
   ],
   "source": [
    "print(\"Sairam\")"
   ]
  },
  {
   "cell_type": "code",
   "execution_count": 13,
   "metadata": {},
   "outputs": [],
   "source": [
    "import pandas as pd\n",
    "df = pd.read_csv('./thyroid_data_OG/test.csv')\n",
    "df1 = pd.read_csv('./thyroid_data_OG/train.csv')\n",
    "data = pd.concat([df,df1])\n",
    "y_lable = data.pop(\"lable\")"
   ]
  },
  {
   "cell_type": "code",
   "execution_count": 21,
   "metadata": {},
   "outputs": [
    {
     "name": "stdout",
     "output_type": "stream",
     "text": [
      "Before SMOTE: age                0\n",
      "sex                0\n",
      "sick               0\n",
      "pregnant           0\n",
      "thyroid surgery    0\n",
      "I131 treatment     0\n",
      "lithium            0\n",
      "goitre             0\n",
      "tumor              0\n",
      "TSH                0\n",
      "T3                 0\n",
      "TT4                0\n",
      "T4U                0\n",
      "FTI                0\n",
      "dtype: int64\n",
      "(6680, 15)\n"
     ]
    }
   ],
   "source": [
    "from imblearn.over_sampling import SMOTE\n",
    "import pandas as pd\n",
    "\n",
    "# Check for NaN values before SMOTE\n",
    "print(\"Before SMOTE:\", data.isnull().sum())\n",
    "\n",
    "smote = SMOTE(sampling_strategy=1.0, random_state=65)\n",
    "X_resampled, y_resampled = smote.fit_resample(data, y_lable)\n",
    "\n",
    "# Ensure y_resampled is a DataFrame\n",
    "y_resampled = pd.DataFrame(y_resampled).reset_index(drop=True)\n",
    "\n",
    "# Combine resampled features and labels\n",
    "modified_data = pd.concat([X_resampled.reset_index(drop=True), y_resampled], axis=1)\n",
    "\n",
    "# Drop NaN values\n",
    "modified_data = modified_data.dropna()\n",
    "\n",
    "print(modified_data.shape)\n"
   ]
  },
  {
   "cell_type": "code",
   "execution_count": 22,
   "metadata": {},
   "outputs": [],
   "source": [
    "from sklearn.model_selection import train_test_split\n",
    "y_data = modified_data.pop(\"lable\")\n",
    "X_train, X_test, y_train, y_test = train_test_split( modified_data, y_data, test_size=0.2, random_state=42)"
   ]
  },
  {
   "cell_type": "code",
   "execution_count": 23,
   "metadata": {},
   "outputs": [
    {
     "ename": "",
     "evalue": "",
     "output_type": "error",
     "traceback": [
      "\u001b[1;31mThe Kernel crashed while executing code in the current cell or a previous cell. \n",
      "\u001b[1;31mPlease review the code in the cell(s) to identify a possible cause of the failure. \n",
      "\u001b[1;31mClick <a href='https://aka.ms/vscodeJupyterKernelCrash'>here</a> for more info. \n",
      "\u001b[1;31mView Jupyter <a href='command:jupyter.viewOutput'>log</a> for further details."
     ]
    }
   ],
   "source": [
    "X_train[\"lable\"] = y_train\n",
    "X_test[\"lable\"] = y_test\n",
    "X_train.to_csv(\"train.csv\",index=False)\n",
    "X_test.to_csv(\"test.csv\",index=False)"
   ]
  },
  {
   "cell_type": "code",
   "execution_count": null,
   "metadata": {},
   "outputs": [],
   "source": []
  }
 ],
 "metadata": {
  "kernelspec": {
   "display_name": "Python 3",
   "language": "python",
   "name": "python3"
  },
  "language_info": {
   "codemirror_mode": {
    "name": "ipython",
    "version": 3
   },
   "file_extension": ".py",
   "mimetype": "text/x-python",
   "name": "python",
   "nbconvert_exporter": "python",
   "pygments_lexer": "ipython3",
   "version": "3.10.12"
  }
 },
 "nbformat": 4,
 "nbformat_minor": 2
}
