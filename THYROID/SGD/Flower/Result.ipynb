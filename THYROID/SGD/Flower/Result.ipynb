{
 "cells": [
  {
   "cell_type": "code",
   "execution_count": 2,
   "id": "7ad6a2b9-bcd7-47bb-a399-3e616eca89e5",
   "metadata": {},
   "outputs": [
    {
     "name": "stdout",
     "output_type": "stream",
     "text": [
      "0.939889502762431\n"
     ]
    }
   ],
   "source": [
    "##### import pickle\n",
    "import os\n",
    "import pandas as pd\n",
    "from sklearn.metrics import accuracy_score as acc\n",
    "import pickle\n",
    "def model_tester(path,data,y_true):\n",
    "    total = 0\n",
    "    for x in os.listdir(path):\n",
    "        #print(path+x)\n",
    "        with open(path+x, 'rb') as file:\n",
    "            model = pickle.load(file)\n",
    "            y_pred = model.predict(data.values)\n",
    "            total+=acc(y_true,y_pred)\n",
    "       \n",
    "    return total/25\n",
    "def feeder():\n",
    "    data = pd.read_csv(\"./thyroid_data/test.csv\")\n",
    "    #data.pop(\"index\")\n",
    "    y=data.pop(\"lable\")\n",
    "    d=model_tester(\"./exp2models/\",data,y)\n",
    "    print(d)\n",
    "feeder()    \n"
   ]
  },
  {
   "cell_type": "markdown",
   "id": "29c548cc-002e-411a-8384-514d03dba7dd",
   "metadata": {},
   "source": [
    "##### "
   ]
  }
 ],
 "metadata": {
  "kernelspec": {
   "display_name": "Python 3 (ipykernel)",
   "language": "python",
   "name": "python3"
  },
  "language_info": {
   "codemirror_mode": {
    "name": "ipython",
    "version": 3
   },
   "file_extension": ".py",
   "mimetype": "text/x-python",
   "name": "python",
   "nbconvert_exporter": "python",
   "pygments_lexer": "ipython3",
   "version": "3.10.6"
  }
 },
 "nbformat": 4,
 "nbformat_minor": 5
}
