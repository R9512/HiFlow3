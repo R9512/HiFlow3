{
 "cells": [
  {
   "cell_type": "code",
   "execution_count": 1,
   "id": "2ac96fd1-3d25-44e6-9c8b-db1c59663e49",
   "metadata": {},
   "outputs": [
    {
     "ename": "FileNotFoundError",
     "evalue": "[Errno 2] No such file or directory: './models'",
     "output_type": "error",
     "traceback": [
      "\u001b[0;31m---------------------------------------------------------------------------\u001b[0m",
      "\u001b[0;31mFileNotFoundError\u001b[0m                         Traceback (most recent call last)",
      "Cell \u001b[0;32mIn[1], line 25\u001b[0m\n\u001b[1;32m     23\u001b[0m             d[x[\u001b[38;5;241m-\u001b[39m\u001b[38;5;241m1\u001b[39m]]\u001b[38;5;241m=\u001b[39mmodel_tester(\u001b[38;5;124m\"\u001b[39m\u001b[38;5;124m./models/\u001b[39m\u001b[38;5;124m\"\u001b[39m\u001b[38;5;241m+\u001b[39mx\u001b[38;5;241m+\u001b[39m\u001b[38;5;124m\"\u001b[39m\u001b[38;5;124m/\u001b[39m\u001b[38;5;124m\"\u001b[39m,data,y)\n\u001b[1;32m     24\u001b[0m     \u001b[38;5;28mprint\u001b[39m(d)\n\u001b[0;32m---> 25\u001b[0m \u001b[43mfeeder\u001b[49m\u001b[43m(\u001b[49m\u001b[43m)\u001b[49m     \n",
      "Cell \u001b[0;32mIn[1], line 20\u001b[0m, in \u001b[0;36mfeeder\u001b[0;34m()\u001b[0m\n\u001b[1;32m     18\u001b[0m y\u001b[38;5;241m=\u001b[39mdata\u001b[38;5;241m.\u001b[39mpop(\u001b[38;5;124m\"\u001b[39m\u001b[38;5;124mclass\u001b[39m\u001b[38;5;124m\"\u001b[39m)\n\u001b[1;32m     19\u001b[0m d \u001b[38;5;241m=\u001b[39m {}\n\u001b[0;32m---> 20\u001b[0m \u001b[38;5;28;01mfor\u001b[39;00m x \u001b[38;5;129;01min\u001b[39;00m \u001b[43mos\u001b[49m\u001b[38;5;241;43m.\u001b[39;49m\u001b[43mlistdir\u001b[49m\u001b[43m(\u001b[49m\u001b[38;5;124;43m\"\u001b[39;49m\u001b[38;5;124;43m./models\u001b[39;49m\u001b[38;5;124;43m\"\u001b[39;49m\u001b[43m)\u001b[49m:\n\u001b[1;32m     21\u001b[0m     \u001b[38;5;28;01mif\u001b[39;00m( \u001b[38;5;129;01mnot\u001b[39;00m \u001b[38;5;124m\"\u001b[39m\u001b[38;5;124m.ipynb\u001b[39m\u001b[38;5;124m\"\u001b[39m \u001b[38;5;129;01min\u001b[39;00m x):\n\u001b[1;32m     22\u001b[0m         \u001b[38;5;66;03m#print(x,\"From models\")\u001b[39;00m\n\u001b[1;32m     23\u001b[0m         d[x[\u001b[38;5;241m-\u001b[39m\u001b[38;5;241m1\u001b[39m]]\u001b[38;5;241m=\u001b[39mmodel_tester(\u001b[38;5;124m\"\u001b[39m\u001b[38;5;124m./models/\u001b[39m\u001b[38;5;124m\"\u001b[39m\u001b[38;5;241m+\u001b[39mx\u001b[38;5;241m+\u001b[39m\u001b[38;5;124m\"\u001b[39m\u001b[38;5;124m/\u001b[39m\u001b[38;5;124m\"\u001b[39m,data,y)\n",
      "\u001b[0;31mFileNotFoundError\u001b[0m: [Errno 2] No such file or directory: './models'"
     ]
    }
   ],
   "source": [
    "import pickle\n",
    "import os\n",
    "import pandas as pd\n",
    "from sklearn.metrics import accuracy_score as acc\n",
    "def model_tester(path,data,y_true):\n",
    "    total = 0\n",
    "    for x in os.listdir(path):\n",
    "        #print(path+x)\n",
    "        with open(path+x, 'rb') as file:\n",
    "            model = pickle.load(file)\n",
    "            y_pred = model.predict(data.values)\n",
    "            total+=acc(y_true,y_pred)\n",
    "       \n",
    "    return total/25\n",
    "def feeder():\n",
    "    data = pd.read_csv(\"test.csv\")\n",
    "    #data.pop(\"index\")\n",
    "    y=data.pop(\"class\")\n",
    "    d = {}\n",
    "    for x in os.listdir(\"./models\"):\n",
    "        if( not \".ipynb\" in x):\n",
    "            #print(x,\"From models\")\n",
    "            d[x[-1]]=model_tester(\"./models/\"+x+\"/\",data,y)\n",
    "    print(d)\n",
    "feeder()     "
   ]
  },
  {
   "cell_type": "code",
   "execution_count": 4,
   "id": "191f4da6-ad21-4dd2-a578-1909778f1915",
   "metadata": {},
   "outputs": [
    {
     "name": "stdout",
     "output_type": "stream",
     "text": [
      "0.8216482164821648\n"
     ]
    }
   ],
   "source": [
    "import pickle\n",
    "import os\n",
    "import pandas as pd\n",
    "from sklearn.metrics import accuracy_score as acc\n",
    "def model_tester(path,data,y_true):\n",
    "    total = 0\n",
    "    for x in os.listdir(path):\n",
    "        #print(path+x)\n",
    "        with open(path+x, 'rb') as file:\n",
    "            model = pickle.load(file)\n",
    "            y_pred = model.predict(data.values)\n",
    "            \n",
    "            total+=acc(y_true,y_pred)\n",
    "       \n",
    "    return total/25\n",
    "def feeder():\n",
    "    data = pd.read_csv(\"./mush/test.csv\")\n",
    "    #data.pop(\"index\")\n",
    "    y=data.pop(\"class\")\n",
    "    d = model_tester(\"sairam/\",data,y)\n",
    "    print(d)\n",
    "feeder()     "
   ]
  },
  {
   "cell_type": "code",
   "execution_count": 18,
   "id": "2a817790-f5f1-45a7-8457-b874d0bcff01",
   "metadata": {},
   "outputs": [
    {
     "data": {
      "text/plain": [
       "(1, 21)"
      ]
     },
     "execution_count": 18,
     "metadata": {},
     "output_type": "execute_result"
    }
   ],
   "source": [
    "m.coef_.shape"
   ]
  },
  {
   "cell_type": "code",
   "execution_count": 20,
   "id": "d5938447-5d19-4cfa-89cb-c219ea75d197",
   "metadata": {},
   "outputs": [
    {
     "data": {
      "text/plain": [
       "array([-5.1287292])"
      ]
     },
     "execution_count": 20,
     "metadata": {},
     "output_type": "execute_result"
    }
   ],
   "source": [
    "m.intercept_"
   ]
  },
  {
   "cell_type": "code",
   "execution_count": 21,
   "id": "0f538021-17b7-4842-9941-6481b066e5dd",
   "metadata": {},
   "outputs": [
    {
     "data": {
      "text/plain": [
       "(1218, 21)"
      ]
     },
     "execution_count": 21,
     "metadata": {},
     "output_type": "execute_result"
    }
   ],
   "source": [
    "data.shape"
   ]
  }
 ],
 "metadata": {
  "kernelspec": {
   "display_name": "Python 3 (ipykernel)",
   "language": "python",
   "name": "python3"
  },
  "language_info": {
   "codemirror_mode": {
    "name": "ipython",
    "version": 3
   },
   "file_extension": ".py",
   "mimetype": "text/x-python",
   "name": "python",
   "nbconvert_exporter": "python",
   "pygments_lexer": "ipython3",
   "version": "3.10.6"
  }
 },
 "nbformat": 4,
 "nbformat_minor": 5
}
