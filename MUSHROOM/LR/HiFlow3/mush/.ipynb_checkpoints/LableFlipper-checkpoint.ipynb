{
 "cells": [
  {
   "cell_type": "code",
   "execution_count": 1,
   "id": "a5a1328c",
   "metadata": {
    "scrolled": true
   },
   "outputs": [],
   "source": [
    "import pandas as pd\n",
    "#pd.set_option('mode.chained_assignment', None)\n",
    "\n",
    "\n",
    "def flipper(prop,col):\n",
    "    PROPORTION = prop\n",
    "    data=pd.read_csv(\"cleaned_mushrom.csv\")\n",
    "    df_1 = data[data[col]==1].reset_index()\n",
    "    df_0 = data[data[col]==0].reset_index()\n",
    "\n",
    "    fraction_0,fraction_1 =int(df_0.shape[0]*PROPORTION),int(df_1.shape[0]*PROPORTION) \n",
    "    df_1.loc[1:fraction_1,col] = 0\n",
    "    df_0.loc[1:fraction_0,col] = 1\n",
    "    print(fraction_0,fraction_1)\n",
    "    data_frame = pd.concat([df_1,df_0])\n",
    "    data_frame.to_csv(str(prop)+\".csv\",index=False)"
   ]
  },
  {
   "cell_type": "code",
   "execution_count": 2,
   "id": "a19f9fd1",
   "metadata": {},
   "outputs": [
    {
     "name": "stdout",
     "output_type": "stream",
     "text": [
      "0\n",
      "0 0\n",
      "1\n",
      "420 391\n",
      "2\n",
      "841 783\n",
      "3\n",
      "1262 1174\n",
      "4\n",
      "1683 1566\n",
      "5\n",
      "2104 1958\n",
      "6\n",
      "2524 2349\n",
      "7\n",
      "2945 2741\n",
      "8\n",
      "3366 3132\n"
     ]
    }
   ],
   "source": [
    "for x in range(0,9):\n",
    "    print(x)\n",
    "    flipper(x/10,\"class\")\n",
    "    "
   ]
  }
 ],
 "metadata": {
  "kernelspec": {
   "display_name": "Python 3 (ipykernel)",
   "language": "python",
   "name": "python3"
  },
  "language_info": {
   "codemirror_mode": {
    "name": "ipython",
    "version": 3
   },
   "file_extension": ".py",
   "mimetype": "text/x-python",
   "name": "python",
   "nbconvert_exporter": "python",
   "pygments_lexer": "ipython3",
   "version": "3.10.6"
  }
 },
 "nbformat": 4,
 "nbformat_minor": 5
}
